{
 "cells": [
  {
   "cell_type": "code",
   "execution_count": null,
   "metadata": {},
   "outputs": [],
   "source": []
  },
  {
   "cell_type": "code",
   "execution_count": 1,
   "metadata": {},
   "outputs": [],
   "source": [
    "#  INTRODUCTION TO \"f\" STRING \n",
    "\n",
    "# f\"custom words {placeholder}  {placeholder1}------------say {n}\n",
    "\n",
    "# NOTE : place holder is nothing but yhe reference points of the variables that we have created.\n"
   ]
  },
  {
   "cell_type": "code",
   "execution_count": 6,
   "metadata": {},
   "outputs": [
    {
     "name": "stdout",
     "output_type": "stream",
     "text": [
      "aniket humane\n"
     ]
    }
   ],
   "source": [
    "first = \"aniket\"\n",
    "\n",
    "last = \"humane\"\n",
    "\n",
    "sentence = f\"{first} {last}\"\n",
    "\n",
    "print(sentence)"
   ]
  },
  {
   "cell_type": "code",
   "execution_count": 7,
   "metadata": {},
   "outputs": [
    {
     "name": "stdout",
     "output_type": "stream",
     "text": [
      "my name is aniket humane\n"
     ]
    }
   ],
   "source": [
    "sentence = f\"my name is {first} {last}\"\n",
    "print(sentence)"
   ]
  },
  {
   "cell_type": "code",
   "execution_count": 8,
   "metadata": {},
   "outputs": [
    {
     "name": "stdout",
     "output_type": "stream",
     "text": [
      "mohit humane\n"
     ]
    }
   ],
   "source": [
    "first1 = \"mohit\"\n",
    "\n",
    "sentence1 = f\"{first1} {last}\"\n",
    "\n",
    "print(sentence1)"
   ]
  },
  {
   "cell_type": "code",
   "execution_count": 10,
   "metadata": {},
   "outputs": [
    {
     "name": "stdout",
     "output_type": "stream",
     "text": [
      "girish humane\n"
     ]
    }
   ],
   "source": [
    "father = \"girish\"\n",
    "\n",
    "sentence2 = f\"{father} {last}\"\n",
    "\n",
    "print(sentence2)"
   ]
  },
  {
   "cell_type": "code",
   "execution_count": 11,
   "metadata": {},
   "outputs": [
    {
     "name": "stdout",
     "output_type": "stream",
     "text": [
      "aniket mohit girish humane\n"
     ]
    }
   ],
   "source": [
    "sentence_all = f\"{first} {first1} {father} {last}\"\n",
    "\n",
    "print(sentence_all)"
   ]
  },
  {
   "cell_type": "code",
   "execution_count": 12,
   "metadata": {},
   "outputs": [
    {
     "name": "stdout",
     "output_type": "stream",
     "text": [
      "aniketmohitgirishhumane\n"
     ]
    }
   ],
   "source": [
    "sentence_all = f\"{first}{first1}{father}{last}\"\n",
    "\n",
    "print(sentence_all)"
   ]
  },
  {
   "cell_type": "code",
   "execution_count": 13,
   "metadata": {},
   "outputs": [
    {
     "name": "stdout",
     "output_type": "stream",
     "text": [
      "humane girish\n"
     ]
    }
   ],
   "source": [
    "sentence_last = f\"{last} {father}\"\n",
    "\n",
    "print(sentence_last)"
   ]
  },
  {
   "cell_type": "code",
   "execution_count": 14,
   "metadata": {},
   "outputs": [
    {
     "name": "stdout",
     "output_type": "stream",
     "text": [
      "Aniket Humane\n"
     ]
    }
   ],
   "source": [
    "# Requirement : Noe I want to write the name in capital letter\n",
    "\n",
    "first = \"aniket\"\n",
    "\n",
    "last = \"humane\"\n",
    "\n",
    "sentence = f\"{first.title()} {last.title()}\"\n",
    "\n",
    "print(sentence)"
   ]
  },
  {
   "cell_type": "code",
   "execution_count": 15,
   "metadata": {},
   "outputs": [
    {
     "name": "stdout",
     "output_type": "stream",
     "text": [
      "ANIKET HUMANE\n"
     ]
    }
   ],
   "source": [
    "first = \"aniket\"\n",
    "\n",
    "last = \"humane\"\n",
    "\n",
    "sentence = f\"{first.upper()} {last.upper()}\"\n",
    "\n",
    "print(sentence)"
   ]
  },
  {
   "cell_type": "code",
   "execution_count": 19,
   "metadata": {},
   "outputs": [
    {
     "name": "stdout",
     "output_type": "stream",
     "text": [
      "aniket HUMANE\n"
     ]
    }
   ],
   "source": [
    "first = \"aniket\"\n",
    "\n",
    "last = \"humane\"\n",
    "\n",
    "sentence = f\"{first.lower()} {last.upper()}\"\n",
    "\n",
    "print(sentence)"
   ]
  },
  {
   "cell_type": "code",
   "execution_count": 20,
   "metadata": {},
   "outputs": [
    {
     "name": "stdout",
     "output_type": "stream",
     "text": [
      "Aniket Mohit Girish Humane\n"
     ]
    }
   ],
   "source": [
    "sentence_all = f\"{first.title()} {first1.title()} {father.title()} {last.title()}\"\n",
    "\n",
    "print(sentence_all)"
   ]
  },
  {
   "cell_type": "code",
   "execution_count": 21,
   "metadata": {},
   "outputs": [
    {
     "name": "stdout",
     "output_type": "stream",
     "text": [
      "aniketmohitgirishhumaneAniket Mohit Girish Humane\n"
     ]
    }
   ],
   "source": [
    "sentence_all = f\"{first}{first1}{father}{last}{first.title()} {first1.title()} {father.title()} {last.title()}\"\n",
    "\n",
    "print(sentence_all)"
   ]
  },
  {
   "cell_type": "code",
   "execution_count": 22,
   "metadata": {},
   "outputs": [
    {
     "name": "stdout",
     "output_type": "stream",
     "text": [
      "AniketMOHITGirishhumaneAniket Mohit Girish Humane\n"
     ]
    }
   ],
   "source": [
    "sentence_all = f\"{first.title()}{first1.upper()}{father.title()}{last}{first.title()} {first1.title()} {father.title()} {last.title()}\"\n",
    "\n",
    "print(sentence_all)\n"
   ]
  },
  {
   "cell_type": "code",
   "execution_count": 24,
   "metadata": {},
   "outputs": [
    {
     "name": "stdout",
     "output_type": "stream",
     "text": [
      "Aniket  MOHIT  Girish  humane           Aniket               Mohit                     Girish                  Humane\n"
     ]
    }
   ],
   "source": [
    "sentence_all = f\"{first.title()}  {first1.upper()}  {father.title()}  {last}           {first.title()}               {first1.title()}                     {father.title()}                  {last.title()}\"\n",
    "\n",
    "print(sentence_all)\n"
   ]
  },
  {
   "cell_type": "code",
   "execution_count": null,
   "metadata": {},
   "outputs": [],
   "source": []
  },
  {
   "cell_type": "code",
   "execution_count": 25,
   "metadata": {},
   "outputs": [
    {
     "name": "stdout",
     "output_type": "stream",
     "text": [
      "Aniket Mohit Girish Humane\n"
     ]
    }
   ],
   "source": [
    "# Adding space to string\n",
    "\n",
    "sentence_all = f\"{first.title()} {first1.title()} {father.title()} {last.title()}\"\n",
    "\n",
    "print(sentence_all)\n"
   ]
  }
 ],
 "metadata": {
  "kernelspec": {
   "display_name": "Python 3",
   "language": "python",
   "name": "python3"
  },
  "language_info": {
   "codemirror_mode": {
    "name": "ipython",
    "version": 3
   },
   "file_extension": ".py",
   "mimetype": "text/x-python",
   "name": "python",
   "nbconvert_exporter": "python",
   "pygments_lexer": "ipython3",
   "version": "3.8.5"
  }
 },
 "nbformat": 4,
 "nbformat_minor": 4
}
