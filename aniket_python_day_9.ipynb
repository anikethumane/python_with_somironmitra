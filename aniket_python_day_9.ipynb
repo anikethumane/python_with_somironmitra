{
 "cells": [
  {
   "cell_type": "code",
   "execution_count": 1,
   "metadata": {},
   "outputs": [],
   "source": [
    "# Introduction to LIST DATA TYPES \n",
    "\n",
    "# Def : A list is a collection of items in a \"Particular Order\"\n",
    "\n",
    "# Classification : List is a mutable data type \n",
    "\n",
    "# it is define by using [ ]"
   ]
  },
  {
   "cell_type": "code",
   "execution_count": 7,
   "metadata": {},
   "outputs": [
    {
     "name": "stdout",
     "output_type": "stream",
     "text": [
      "['aniket', 'mohit', 'chitra', 'girish']\n"
     ]
    }
   ],
   "source": [
    "students = ['aniket', 'mohit', 'chitra', 'girish']\n",
    "\n",
    "print(students)"
   ]
  },
  {
   "cell_type": "code",
   "execution_count": null,
   "metadata": {},
   "outputs": [],
   "source": [
    "# REQUIREMENT : what kind of data type is students?"
   ]
  },
  {
   "cell_type": "code",
   "execution_count": 8,
   "metadata": {},
   "outputs": [
    {
     "data": {
      "text/plain": [
       "list"
      ]
     },
     "execution_count": 8,
     "metadata": {},
     "output_type": "execute_result"
    }
   ],
   "source": [
    "type(students)"
   ]
  },
  {
   "cell_type": "code",
   "execution_count": null,
   "metadata": {},
   "outputs": [],
   "source": [
    "students = ['aniket', 'mohit', 'chitra', 'girish']\n",
    "\n",
    "# ===> elements\n",
    "\n",
    "# Now how to access the elements from above list ? \n",
    "\n",
    "# Introduction to Indexing\n",
    "\n",
    "# So in the defination of list data type we have clearly mentioned that a particular order is to maintained \n",
    "# So to maintain this particular order we use the concept of Indexing\n",
    "\n",
    "# What does Indexing mean? \n",
    "\n",
    "# In backend, Indexing means assigning the values to the variable\n",
    "\n",
    "# So how does it start? \n",
    "\n",
    "# 0,1,2,3,4,5,6......."
   ]
  },
  {
   "cell_type": "code",
   "execution_count": 9,
   "metadata": {},
   "outputs": [
    {
     "name": "stdout",
     "output_type": "stream",
     "text": [
      "['aniket', 'mohit', 'girish', 'chitra']\n",
      "['dhawan', 'sharma', 'kohli', 'rahane', 'pant', 'dhoni', 'bumrah']\n",
      "['maxwell', 'stokes', 'root']\n"
     ]
    }
   ],
   "source": [
    "students = [\"aniket\", \"mohit\", \"girish\", \"chitra\"]\n",
    "students_1 = [\"dhawan\",\"sharma\", \"kohli\", \"rahane\", \"pant\", \"dhoni\", \"bumrah\"]\n",
    "students_2 = [\"maxwell\", \"stokes\", \"root\"]\n",
    "\n",
    "print(students)\n",
    "print(students_1)\n",
    "print(students_2)"
   ]
  },
  {
   "cell_type": "code",
   "execution_count": 10,
   "metadata": {},
   "outputs": [
    {
     "name": "stdout",
     "output_type": "stream",
     "text": [
      "['aniket', 'mohit', 'girish', 'chitra']\n"
     ]
    }
   ],
   "source": [
    "print(students)"
   ]
  },
  {
   "cell_type": "code",
   "execution_count": 11,
   "metadata": {},
   "outputs": [
    {
     "name": "stdout",
     "output_type": "stream",
     "text": [
      "['dhawan', 'sharma', 'kohli', 'rahane', 'pant', 'dhoni', 'bumrah']\n"
     ]
    }
   ],
   "source": [
    "# REQUIREMENT : I want to print the variable in possition 3\n",
    "\n",
    "print(students_1)"
   ]
  },
  {
   "cell_type": "code",
   "execution_count": 12,
   "metadata": {},
   "outputs": [
    {
     "name": "stdout",
     "output_type": "stream",
     "text": [
      "rahane\n"
     ]
    }
   ],
   "source": [
    "print(students_1[3])"
   ]
  },
  {
   "cell_type": "code",
   "execution_count": 13,
   "metadata": {},
   "outputs": [
    {
     "ename": "IndexError",
     "evalue": "list index out of range",
     "output_type": "error",
     "traceback": [
      "\u001b[1;31m---------------------------------------------------------------------------\u001b[0m",
      "\u001b[1;31mIndexError\u001b[0m                                Traceback (most recent call last)",
      "\u001b[1;32m<ipython-input-13-9b1ca1adc841>\u001b[0m in \u001b[0;36m<module>\u001b[1;34m\u001b[0m\n\u001b[1;32m----> 1\u001b[1;33m \u001b[0mprint\u001b[0m\u001b[1;33m(\u001b[0m\u001b[0mstudents_1\u001b[0m\u001b[1;33m[\u001b[0m\u001b[1;36m7\u001b[0m\u001b[1;33m]\u001b[0m\u001b[1;33m)\u001b[0m\u001b[1;33m\u001b[0m\u001b[1;33m\u001b[0m\u001b[0m\n\u001b[0m",
      "\u001b[1;31mIndexError\u001b[0m: list index out of range"
     ]
    }
   ],
   "source": [
    "print(students_1[7])"
   ]
  },
  {
   "cell_type": "code",
   "execution_count": 14,
   "metadata": {},
   "outputs": [
    {
     "name": "stdout",
     "output_type": "stream",
     "text": [
      "bumrah\n"
     ]
    }
   ],
   "source": [
    "print(students_1[6])"
   ]
  },
  {
   "cell_type": "code",
   "execution_count": 15,
   "metadata": {},
   "outputs": [
    {
     "name": "stdout",
     "output_type": "stream",
     "text": [
      "Pant\n"
     ]
    }
   ],
   "source": [
    "print(students_1[4].title())"
   ]
  },
  {
   "cell_type": "code",
   "execution_count": 16,
   "metadata": {},
   "outputs": [
    {
     "name": "stdout",
     "output_type": "stream",
     "text": [
      "KOHLI\n"
     ]
    }
   ],
   "source": [
    "print(students_1[2].upper())"
   ]
  },
  {
   "cell_type": "code",
   "execution_count": null,
   "metadata": {},
   "outputs": [],
   "source": []
  }
 ],
 "metadata": {
  "kernelspec": {
   "display_name": "Python 3",
   "language": "python",
   "name": "python3"
  },
  "language_info": {
   "codemirror_mode": {
    "name": "ipython",
    "version": 3
   },
   "file_extension": ".py",
   "mimetype": "text/x-python",
   "name": "python",
   "nbconvert_exporter": "python",
   "pygments_lexer": "ipython3",
   "version": "3.8.5"
  }
 },
 "nbformat": 4,
 "nbformat_minor": 4
}
