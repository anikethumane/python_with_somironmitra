{
 "cells": [
  {
   "cell_type": "code",
   "execution_count": 1,
   "metadata": {},
   "outputs": [],
   "source": [
    "# SUMMARY \n",
    "\n",
    "# Adding spaces to string\n",
    "\n",
    "   # '\\n' is a new line delimiter : used to take in next line \n",
    "   # '\\t' is a tab delimeter : used to give tab "
   ]
  },
  {
   "cell_type": "code",
   "execution_count": 2,
   "metadata": {},
   "outputs": [],
   "source": [
    "# Adding spaces to strings\n",
    "\n",
    "# fav_subject python C C++ java maths english HTML"
   ]
  },
  {
   "cell_type": "code",
   "execution_count": 3,
   "metadata": {},
   "outputs": [
    {
     "name": "stdout",
     "output_type": "stream",
     "text": [
      "fav_subject python C C++ java maths english HTML\n"
     ]
    }
   ],
   "source": [
    "print(\"fav_subject python C C++ java maths english HTML\")"
   ]
  },
  {
   "cell_type": "code",
   "execution_count": 4,
   "metadata": {},
   "outputs": [
    {
     "name": "stdout",
     "output_type": "stream",
     "text": [
      "fav_subjectpythonCC++java mathsenglishHTML\n"
     ]
    }
   ],
   "source": [
    "print(\"fav_subjectpythonCC++java mathsenglishHTML\")"
   ]
  },
  {
   "cell_type": "code",
   "execution_count": null,
   "metadata": {},
   "outputs": [],
   "source": [
    "#  '\\n' is a new line delimeter"
   ]
  },
  {
   "cell_type": "code",
   "execution_count": 6,
   "metadata": {},
   "outputs": [
    {
     "name": "stdout",
     "output_type": "stream",
     "text": [
      "fav_subject\n",
      "python\n",
      "C\n",
      "C++java maths english HTML\n"
     ]
    }
   ],
   "source": [
    "print('fav_subject' '\\npython' '\\nC' '\\nC++' 'java maths english HTML')"
   ]
  },
  {
   "cell_type": "code",
   "execution_count": null,
   "metadata": {},
   "outputs": [],
   "source": []
  },
  {
   "cell_type": "code",
   "execution_count": 7,
   "metadata": {},
   "outputs": [
    {
     "name": "stdout",
     "output_type": "stream",
     "text": [
      "fav_subject\n",
      "python\n",
      "C\n",
      "     C++\n",
      "java\n",
      "mathsenglish HTML\n"
     ]
    }
   ],
   "source": [
    "print('fav_subject' '\\npython' '\\nC' '\\n     C++' '\\njava' '\\nmaths' 'english HTML')"
   ]
  },
  {
   "cell_type": "code",
   "execution_count": 8,
   "metadata": {},
   "outputs": [
    {
     "name": "stdout",
     "output_type": "stream",
     "text": [
      "familypapamummysondaughter\n"
     ]
    }
   ],
   "source": [
    "print('familypapamummysondaughter')"
   ]
  },
  {
   "cell_type": "code",
   "execution_count": 9,
   "metadata": {},
   "outputs": [
    {
     "name": "stdout",
     "output_type": "stream",
     "text": [
      "family\n",
      "papa\n",
      "mummy\n",
      "\tson\n",
      "\tdaughter\n"
     ]
    }
   ],
   "source": [
    "print('family' '\\npapa' '\\nmummy' '\\n\\tson' '\\n\\tdaughter')"
   ]
  },
  {
   "cell_type": "code",
   "execution_count": 14,
   "metadata": {},
   "outputs": [
    {
     "name": "stdout",
     "output_type": "stream",
     "text": [
      "family\n",
      "\tpapa\n",
      "\tmummy\n",
      "\t\tson\n",
      "\t\t\tdaughter\n"
     ]
    }
   ],
   "source": [
    "print('family' '\\n\\tpapa' '\\n\\tmummy' '\\n\\t\\tson' '\\n\\t\\t\\tdaughter')"
   ]
  },
  {
   "cell_type": "code",
   "execution_count": 15,
   "metadata": {},
   "outputs": [
    {
     "name": "stdout",
     "output_type": "stream",
     "text": [
      "familygrandfathergrandmotherpapamummysondaughterchachachachibhaibehen\n"
     ]
    }
   ],
   "source": [
    "print('familygrandfathergrandmotherpapamummysondaughterchachachachibhaibehen')"
   ]
  },
  {
   "cell_type": "code",
   "execution_count": 16,
   "metadata": {},
   "outputs": [
    {
     "name": "stdout",
     "output_type": "stream",
     "text": [
      "family\n",
      "grandfathergrandmother\n",
      "papamummysondaughter\n",
      "chachachachibhaibehen\n"
     ]
    }
   ],
   "source": [
    "print('family''\\ngrandfathergrandmother''\\npapamummysondaughter''\\nchachachachibhaibehen')"
   ]
  },
  {
   "cell_type": "code",
   "execution_count": 18,
   "metadata": {},
   "outputs": [
    {
     "name": "stdout",
     "output_type": "stream",
     "text": [
      "family\n",
      "\tgrandfather\n",
      "\tgrandmother\n",
      "\t\tpapa\n",
      "\t\tmummy\n",
      "\t\t\tson\n",
      "\t\t\tdaughter\n",
      "\t\tchacha\n",
      "\t\tchachi\n",
      "\t\t\tbhai\n",
      "\t\t\tbehen\n"
     ]
    }
   ],
   "source": [
    "print('family''\\n\\tgrandfather''\\n\\tgrandmother''\\n\\t\\tpapa''\\n\\t\\tmummy''\\n\\t\\t\\tson''\\n\\t\\t\\tdaughter''\\n\\t\\tchacha''\\n\\t\\tchachi''\\n\\t\\t\\tbhai''\\n\\t\\t\\tbehen')"
   ]
  },
  {
   "cell_type": "code",
   "execution_count": 20,
   "metadata": {},
   "outputs": [
    {
     "name": "stdout",
     "output_type": "stream",
     "text": [
      "family\n",
      "\tgrandfather\n",
      "\tgrandmother\n",
      "\t\tpapa\n",
      "\t\tmummy\n",
      "\t\t\tson\n",
      "\t\t\tdaughter\n",
      "\t\tchacha\n",
      "\t\tchachi\n",
      "\t\t\t\t\t\t\tbhai\n",
      "\t\t\tbehen\n"
     ]
    }
   ],
   "source": [
    "print('family''\\n\\tgrandfather''\\n\\tgrandmother''\\n\\t\\tpapa''\\n\\t\\tmummy''\\n\\t\\t\\tson''\\n\\t\\t\\tdaughter'                   '\\n\\t\\tchacha''\\n\\t\\tchachi''\\n\\t\\t\\t\\t\\t\\t\\tbhai''\\n\\t\\t\\tbehen')"
   ]
  },
  {
   "cell_type": "code",
   "execution_count": 21,
   "metadata": {},
   "outputs": [],
   "source": [
    "# if you give spave when you already applied '\\n' then the space is not aplied in code it will remain constant. "
   ]
  },
  {
   "cell_type": "code",
   "execution_count": 24,
   "metadata": {},
   "outputs": [
    {
     "name": "stdout",
     "output_type": "stream",
     "text": [
      "                     a\n",
      "   a\n",
      "       a                 a\n"
     ]
    }
   ],
   "source": [
    "print('                     a''\\n   a'  '\\n       a                 a')"
   ]
  },
  {
   "cell_type": "code",
   "execution_count": 31,
   "metadata": {},
   "outputs": [
    {
     "name": "stdout",
     "output_type": "stream",
     "text": [
      "\n",
      "\ta\n",
      "a\n",
      "\ta\n"
     ]
    }
   ],
   "source": [
    "print('\\n\\ta''\\na''\\n\\ta')"
   ]
  },
  {
   "cell_type": "code",
   "execution_count": 37,
   "metadata": {},
   "outputs": [
    {
     "name": "stdout",
     "output_type": "stream",
     "text": [
      "\n",
      "\ta\n",
      "a\t\ta\n",
      "\ta\n"
     ]
    }
   ],
   "source": [
    "print('\\n\\ta''\\na\\t\\ta''\\n\\ta')"
   ]
  },
  {
   "cell_type": "code",
   "execution_count": 64,
   "metadata": {},
   "outputs": [
    {
     "name": "stdout",
     "output_type": "stream",
     "text": [
      "a a a a a a a a a a a a a\n",
      "a\t\t\ta\n",
      "a\t\t\ta\n",
      "a\t\t\ta\n",
      "a a a a a a a a a a a a a\n"
     ]
    }
   ],
   "source": [
    "print('a a a a a a a a a a a a a''\\na\\t\\t\\ta\\na\\t\\t\\ta\\na\\t\\t\\ta\\na'' a a a a a a a a a a a a')"
   ]
  },
  {
   "cell_type": "code",
   "execution_count": 108,
   "metadata": {},
   "outputs": [
    {
     "name": "stdout",
     "output_type": "stream",
     "text": [
      "\t\ta\n",
      "\t      a a a\n",
      "\t    a a a a a\n",
      "          a a a a a a a\n"
     ]
    }
   ],
   "source": [
    "print('\\t\\ta''\\n\\t      a a a''\\n\\t    a a a a a''\\n          a a a a a a a') "
   ]
  },
  {
   "cell_type": "code",
   "execution_count": 232,
   "metadata": {},
   "outputs": [
    {
     "name": "stdout",
     "output_type": "stream",
     "text": [
      "\t\t         a\n",
      "\t\t a\t\t a\n",
      "\t    a\t\t\t      a\n",
      "\ta\t\t\t\t  a\n",
      "     a\t\t\t\t\t     a\n",
      "   a\t\t\t\t\t       a\n",
      "  a\t\t\t\t\t\ta\n",
      "  a\t\t\t\t\t\ta\n",
      "   a\t\t\t\t\t       a\n",
      "     a\t\t\t\t\t     a\n",
      "\ta\t\t\t\t  a\n",
      "\t    a\t\t\t      a\n",
      "\t\t a\t\t a\n",
      "\t\t\t a\n"
     ]
    }
   ],
   "source": [
    "print('\\t\\t         a''\\n\\t\\t a\\t\\t a''\\n\\t    a\\t\\t\\t      a''\\n\\ta\\t\\t\\t\\t  a''\\n     a\\t\\t\\t\\t\\t     a''\\n   a\\t\\t\\t\\t\\t       a''\\n  a\\t\\t\\t\\t\\t\\ta''\\n  a\\t\\t\\t\\t\\t\\ta''\\n   a\\t\\t\\t\\t\\t       a''\\n     a\\t\\t\\t\\t\\t     a''\\n\\ta\\t\\t\\t\\t  a''\\n\\t    a\\t\\t\\t      a''\\n\\t\\t a\\t\\t a''\\n\\t\\t\\t a')"
   ]
  },
  {
   "cell_type": "code",
   "execution_count": 243,
   "metadata": {},
   "outputs": [
    {
     "name": "stdout",
     "output_type": "stream",
     "text": [
      "a a a a a a a a a a a a a\n",
      "a a a a a a a a a a a a a\n",
      "a a a a a a a a a a a a a\n",
      "a a a a a a a a a a a a a\n",
      "a a a a a a a a a a a a a\n"
     ]
    }
   ],
   "source": [
    "print('a a a a a a a a a a a a a''\\na a a a a a a a a a a a a\\na a a a a a a a a a a a a\\na a a a a a a a a a a a a\\na'' a a a a a a a a a a a a')"
   ]
  },
  {
   "cell_type": "code",
   "execution_count": 253,
   "metadata": {},
   "outputs": [
    {
     "name": "stdout",
     "output_type": "stream",
     "text": [
      "\t\ta\n",
      "\t      a   a\n",
      "\t    a       a\n",
      "          a a a a a a a\n"
     ]
    }
   ],
   "source": [
    "print('\\t\\ta''\\n\\t      a   a''\\n\\t    a       a''\\n          a a a a a a a') "
   ]
  },
  {
   "cell_type": "code",
   "execution_count": 258,
   "metadata": {},
   "outputs": [
    {
     "name": "stdout",
     "output_type": "stream",
     "text": [
      "a a a a a a \n",
      "a a a a a a \n",
      "a a a a a a \n",
      "a a a a a a\n",
      "a a a a a a \n"
     ]
    }
   ],
   "source": [
    "print('a a a a a a ''\\na a a a a a \\na a a a a a \\na a a a a a\\na'' a a a a a ')"
   ]
  },
  {
   "cell_type": "code",
   "execution_count": 440,
   "metadata": {},
   "outputs": [
    {
     "name": "stdout",
     "output_type": "stream",
     "text": [
      "\n",
      "\t\t        a  \n",
      "\t           a a a a a a \n",
      "              a a a a a a a a a a a\n",
      "          a a a a a a a a a a a a a a a\n",
      "       a a a a a a a a a a a a a a a a a a\n",
      "     a a a a a a a a a a a a a a a a a a a a a \n",
      "   a a a a a a a a a a a a a a a a a a a a a a a\n",
      "  a a a a a a a a a a a a a a a a a a a a a a a a\n",
      "  a a a a a a a a a a a a a a a a a a a a a a a a\n",
      "   a a a a a a a a a a a a a a a a a a a a a a a \n",
      "     a a a a a a a a a a a a a a a a a a a a a \n",
      "       a a a a a a a a a a a a a a a a a a\n",
      "          a a a a a a a a a a a a a a a\n",
      "\t      a a a a a a a a a a a \n",
      "\t\t   a a a a a a\n",
      "\t\t        a \n"
     ]
    }
   ],
   "source": [
    "   print('\\n\\t\\t        a  ''\\n\\t           a a a a a a ''\\n              a a a a a a a a a a a''\\n          a a a a a a a a a a a a a a a''\\n       a a a a a a a a a a a a a a a a a a''\\n     a a a a a a a a a a a a a a a a a a a a a ''\\n   a a a a a a a a a a a a a a a a a a a a a a a''\\n  a a a a a a a a a a a a a a a a a a a a a a a a''\\n  a a a a a a a a a a a a a a a a a a a a a a a a''\\n   a a a a a a a a a a a a a a a a a a a a a a a ''\\n     a a a a a a a a a a a a a a a a a a a a a ''\\n       a a a a a a a a a a a a a a a a a a''\\n          a a a a a a a a a a a a a a a''\\n\\t      a a a a a a a a a a a ''\\n\\t\\t   a a a a a a''\\n\\t\\t        a ') "
   ]
  },
  {
   "cell_type": "code",
   "execution_count": 442,
   "metadata": {},
   "outputs": [
    {
     "name": "stdout",
     "output_type": "stream",
     "text": [
      "\t\t\t    a\n",
      "\t\t\t a a \n",
      "\t\t       a a a \n",
      "\t\t    a a a a a\n",
      "\t          a a a a a a a\n",
      "              a a a a a a a a a a\n",
      "          a a a a a a a a a a a a a a\n",
      "       a a a a a a a a a a a a a a a a a a\n",
      "     a a a a a a a a a a a a a a a a a a a a a \n",
      "   a a a a a a a a a a a a a a a a a a a a a a a\n",
      "  a a a a a a a a a a a a a a a a a a a a a a a a\n",
      "  a a a a a a a a a a a a a a a a a a a a a a a a\n",
      "   a a a a a a a a a a a a a a a a a a a a a a a \n",
      "     a a a a a a a a a a a a a a a a a a a a a \n",
      "       a a a a a a a a a a a a a a a a a a\n",
      "          a a a a a a a a a a a a a a a\n",
      "\t      a a a a a a a a a a a \n",
      "\t\t   a a a a a a\n",
      "\t\t      a a a\n"
     ]
    }
   ],
   "source": [
    "   print('\\t\\t\\t    a''\\n\\t\\t\\t a a ''\\n\\t\\t       a a a ''\\n\\t\\t    a a a a a''\\n\\t          a a a a a a a''\\n              a a a a a a a a a a''\\n          a a a a a a a a a a a a a a''\\n       a a a a a a a a a a a a a a a a a a''\\n     a a a a a a a a a a a a a a a a a a a a a ''\\n   a a a a a a a a a a a a a a a a a a a a a a a''\\n  a a a a a a a a a a a a a a a a a a a a a a a a''\\n  a a a a a a a a a a a a a a a a a a a a a a a a''\\n   a a a a a a a a a a a a a a a a a a a a a a a ''\\n     a a a a a a a a a a a a a a a a a a a a a ''\\n       a a a a a a a a a a a a a a a a a a''\\n          a a a a a a a a a a a a a a a''\\n\\t      a a a a a a a a a a a ''\\n\\t\\t   a a a a a a''\\n\\t\\t      a a a') "
   ]
  },
  {
   "cell_type": "code",
   "execution_count": null,
   "metadata": {},
   "outputs": [],
   "source": []
  },
  {
   "cell_type": "code",
   "execution_count": null,
   "metadata": {},
   "outputs": [],
   "source": []
  }
 ],
 "metadata": {
  "kernelspec": {
   "display_name": "Python 3",
   "language": "python",
   "name": "python3"
  },
  "language_info": {
   "codemirror_mode": {
    "name": "ipython",
    "version": 3
   },
   "file_extension": ".py",
   "mimetype": "text/x-python",
   "name": "python",
   "nbconvert_exporter": "python",
   "pygments_lexer": "ipython3",
   "version": "3.8.5"
  }
 },
 "nbformat": 4,
 "nbformat_minor": 4
}
