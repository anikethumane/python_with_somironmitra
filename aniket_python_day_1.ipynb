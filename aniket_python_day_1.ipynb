{
 "cells": [
  {
   "cell_type": "code",
   "execution_count": 1,
   "metadata": {},
   "outputs": [],
   "source": [
    "# Introduction to python "
   ]
  },
  {
   "cell_type": "code",
   "execution_count": 2,
   "metadata": {},
   "outputs": [],
   "source": [
    "# Introduction to variable in python "
   ]
  },
  {
   "cell_type": "code",
   "execution_count": 3,
   "metadata": {},
   "outputs": [],
   "source": [
    "# ---# means it is a comment and not a command"
   ]
  },
  {
   "cell_type": "code",
   "execution_count": 4,
   "metadata": {},
   "outputs": [],
   "source": [
    "# eg. print(\"hello to all\")"
   ]
  },
  {
   "cell_type": "code",
   "execution_count": 6,
   "metadata": {},
   "outputs": [],
   "source": [
    "# if we can't use #(hash) then it is a command "
   ]
  },
  {
   "cell_type": "code",
   "execution_count": 7,
   "metadata": {},
   "outputs": [],
   "source": [
    "# eg."
   ]
  },
  {
   "cell_type": "code",
   "execution_count": 9,
   "metadata": {},
   "outputs": [
    {
     "name": "stdout",
     "output_type": "stream",
     "text": [
      "hello to all\n",
      "hi my name is aniket\n"
     ]
    }
   ],
   "source": [
    "print(\"hello to all\")\n",
    "print(\"hi my name is aniket\")"
   ]
  },
  {
   "cell_type": "code",
   "execution_count": 11,
   "metadata": {},
   "outputs": [
    {
     "name": "stdout",
     "output_type": "stream",
     "text": [
      "welcome to the world of science\n"
     ]
    }
   ],
   "source": [
    "print(\"welcome to the world of science\")"
   ]
  },
  {
   "cell_type": "code",
   "execution_count": 12,
   "metadata": {},
   "outputs": [],
   "source": [
    "# what is variables?\n",
    "# variables are nothing but value holders.\n",
    "\n",
    "# also variable will be forming as the building blocks in multiple things which will be used while programming in the python."
   ]
  },
  {
   "cell_type": "code",
   "execution_count": null,
   "metadata": {},
   "outputs": [],
   "source": [
    "# Rules for declearing the variables in python \n",
    "\n",
    "# we have three 3 rules \n",
    "\n",
    "# Rule No. 1 : There should be no spaces while declearing a variable\n",
    "# Rule No. 2 : Variable name should not start with a number\n",
    "# Rule No. 3 : variable name should not contain any special character \n"
   ]
  },
  {
   "cell_type": "code",
   "execution_count": 22,
   "metadata": {},
   "outputs": [
    {
     "name": "stdout",
     "output_type": "stream",
     "text": [
      "andy\n"
     ]
    }
   ],
   "source": [
    "# Rule No. 1 : There should be no spaces while declearing a variable \n",
    "   \n",
    "    #examples\n",
    "\n",
    "firstname = \"andy\"\n",
    "print(firstname)"
   ]
  },
  {
   "cell_type": "code",
   "execution_count": 14,
   "metadata": {},
   "outputs": [
    {
     "name": "stdout",
     "output_type": "stream",
     "text": [
      "playing chess\n",
      "albert einstein\n"
     ]
    }
   ],
   "source": [
    "hobby = \"playing chess\"\n",
    "favourite_scientist = \"albert einstein\"\n",
    "print(hobby)\n",
    "print(favourite_scientist)"
   ]
  },
  {
   "cell_type": "code",
   "execution_count": 20,
   "metadata": {},
   "outputs": [
    {
     "name": "stdout",
     "output_type": "stream",
     "text": [
      "3idiots\n"
     ]
    }
   ],
   "source": [
    "favmovie = \"3idiots\"\n",
    "print(favmovie)"
   ]
  },
  {
   "cell_type": "code",
   "execution_count": 21,
   "metadata": {},
   "outputs": [
    {
     "name": "stdout",
     "output_type": "stream",
     "text": [
      "rohit mohit prajwal\n"
     ]
    }
   ],
   "source": [
    "tag_your_best_friends = \"rohit mohit prajwal\"\n",
    "print(tag_your_best_friends)"
   ]
  },
  {
   "cell_type": "code",
   "execution_count": 23,
   "metadata": {},
   "outputs": [
    {
     "ename": "SyntaxError",
     "evalue": "invalid syntax (<ipython-input-23-78f5bc14e802>, line 5)",
     "output_type": "error",
     "traceback": [
      "\u001b[1;36m  File \u001b[1;32m\"<ipython-input-23-78f5bc14e802>\"\u001b[1;36m, line \u001b[1;32m5\u001b[0m\n\u001b[1;33m    1name = \"aniket\"\u001b[0m\n\u001b[1;37m        ^\u001b[0m\n\u001b[1;31mSyntaxError\u001b[0m\u001b[1;31m:\u001b[0m invalid syntax\n"
     ]
    }
   ],
   "source": [
    "# Rule No. 2 : Variable name should not start with a number\n",
    "    \n",
    "    #examples\n",
    "    \n",
    "1name = \"aniket\""
   ]
  },
  {
   "cell_type": "code",
   "execution_count": 25,
   "metadata": {},
   "outputs": [
    {
     "name": "stdout",
     "output_type": "stream",
     "text": [
      "physics\n"
     ]
    }
   ],
   "source": [
    "na4544me1 = \"physics\"\n",
    "print(na4544me1)"
   ]
  },
  {
   "cell_type": "code",
   "execution_count": 26,
   "metadata": {},
   "outputs": [
    {
     "name": "stdout",
     "output_type": "stream",
     "text": [
      "anaconda\n"
     ]
    }
   ],
   "source": [
    "y4845652 = \"anaconda\"\n",
    "print(y4845652)"
   ]
  },
  {
   "cell_type": "code",
   "execution_count": 27,
   "metadata": {},
   "outputs": [],
   "source": [
    "# Rule No. 3 : Variable name should not contain any special character\n",
    "\n",
    "  #examples- @, #, $, %, & "
   ]
  },
  {
   "cell_type": "code",
   "execution_count": 28,
   "metadata": {},
   "outputs": [
    {
     "ename": "SyntaxError",
     "evalue": "invalid syntax (<ipython-input-28-3e228c1bbf33>, line 1)",
     "output_type": "error",
     "traceback": [
      "\u001b[1;36m  File \u001b[1;32m\"<ipython-input-28-3e228c1bbf33>\"\u001b[1;36m, line \u001b[1;32m1\u001b[0m\n\u001b[1;33m    name% = money\u001b[0m\n\u001b[1;37m          ^\u001b[0m\n\u001b[1;31mSyntaxError\u001b[0m\u001b[1;31m:\u001b[0m invalid syntax\n"
     ]
    }
   ],
   "source": [
    "name% = money "
   ]
  },
  {
   "cell_type": "code",
   "execution_count": 29,
   "metadata": {},
   "outputs": [
    {
     "name": "stdout",
     "output_type": "stream",
     "text": [
      "sirji\n"
     ]
    }
   ],
   "source": [
    "print0154 = \"sirji\"\n",
    "print(print0154)"
   ]
  },
  {
   "cell_type": "code",
   "execution_count": 30,
   "metadata": {},
   "outputs": [],
   "source": [
    "print001 = \"rahul\"\n"
   ]
  },
  {
   "cell_type": "code",
   "execution_count": 31,
   "metadata": {},
   "outputs": [
    {
     "name": "stdout",
     "output_type": "stream",
     "text": [
      "rahul\n"
     ]
    }
   ],
   "source": [
    "print(print001)"
   ]
  },
  {
   "cell_type": "code",
   "execution_count": null,
   "metadata": {},
   "outputs": [],
   "source": [
    "# highlights\n",
    "\n",
    "# - double quatation ke under wala \"variable\" rehta.\n",
    "# - (print) is a syntex (it is a predefined)\n",
    "# - syntex cannot be a variable"
   ]
  },
  {
   "cell_type": "code",
   "execution_count": null,
   "metadata": {},
   "outputs": [],
   "source": [
    "# interview question \n",
    "# 1) numbering\n",
    "# 2) blank \n",
    "# 3) * "
   ]
  }
 ],
 "metadata": {
  "kernelspec": {
   "display_name": "Python 3",
   "language": "python",
   "name": "python3"
  },
  "language_info": {
   "codemirror_mode": {
    "name": "ipython",
    "version": 3
   },
   "file_extension": ".py",
   "mimetype": "text/x-python",
   "name": "python",
   "nbconvert_exporter": "python",
   "pygments_lexer": "ipython3",
   "version": "3.7.6"
  }
 },
 "nbformat": 4,
 "nbformat_minor": 4
}
