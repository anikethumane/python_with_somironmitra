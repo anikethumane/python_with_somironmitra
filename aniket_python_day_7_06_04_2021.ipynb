{
 "cells": [
  {
   "cell_type": "code",
   "execution_count": 2,
   "metadata": {},
   "outputs": [
    {
     "name": "stdout",
     "output_type": "stream",
     "text": [
      "family\n",
      "\tgrandfather\n",
      "\tgrandmother\n",
      "\t\tpapa\n",
      "\t\tmummy\n",
      "\t\t\tson\n",
      "\t\t\tdaughter\n",
      "\t\tchacha\n",
      "\t\tchachi\n",
      "\t\t\tbhai\n",
      "\t\t\tbehen\n"
     ]
    }
   ],
   "source": [
    "print('family''\\n\\tgrandfather''\\n\\tgrandmother''\\n\\t\\tpapa''\\n\\t\\tmummy''\\n\\t\\t\\tson''\\n\\t\\t\\tdaughter''\\n\\t\\tchacha''\\n\\t\\tchachi''\\n\\t\\t\\tbhai''\\n\\t\\t\\tbehen')"
   ]
  },
  {
   "cell_type": "code",
   "execution_count": 3,
   "metadata": {},
   "outputs": [
    {
     "name": "stdout",
     "output_type": "stream",
     "text": [
      "aniket mohit girish\n"
     ]
    }
   ],
   "source": [
    "print(\"aniket mohit girish\")"
   ]
  },
  {
   "cell_type": "code",
   "execution_count": 4,
   "metadata": {},
   "outputs": [
    {
     "name": "stdout",
     "output_type": "stream",
     "text": [
      "aniket\n",
      "mohitgirish\n"
     ]
    }
   ],
   "source": [
    "print(\"aniket\"  \"\\nmohit\"  \"girish\")"
   ]
  },
  {
   "cell_type": "code",
   "execution_count": 5,
   "metadata": {},
   "outputs": [
    {
     "name": "stdout",
     "output_type": "stream",
     "text": [
      "\n",
      "aniket\n",
      "\n",
      "\n",
      "mohit\tgirish\n"
     ]
    }
   ],
   "source": [
    "print(\"\\naniket\"  \"\\n\\n\\nmohit\"  \"\\tgirish\")"
   ]
  },
  {
   "cell_type": "code",
   "execution_count": 6,
   "metadata": {},
   "outputs": [
    {
     "name": "stdout",
     "output_type": "stream",
     "text": [
      "\n",
      "\t\t\n",
      "\taniket\n",
      "\n",
      "\n",
      "\n",
      "mohit\n",
      "\tgirish\n"
     ]
    }
   ],
   "source": [
    "print(\"\\n\\t\\t\\n\\taniket\"  \"\\n\\n\\n\\nmohit\"  \"\\n\\tgirish\")"
   ]
  },
  {
   "cell_type": "code",
   "execution_count": 7,
   "metadata": {},
   "outputs": [
    {
     "name": "stdout",
     "output_type": "stream",
     "text": [
      "family\n",
      "\tgrandfather\n",
      "\tgrandmother\n",
      "\t\tpapa\n",
      "\t\tmummy\n",
      "\t\t\tson\n",
      "\t\t\tdaughter\n",
      "\t\tchacha\n",
      "\t\tchachi\n",
      "\t\t\tbhai\n",
      "\t\t\tbehen\n"
     ]
    }
   ],
   "source": [
    "print('family''\\n\\tgrandfather''\\n\\tgrandmother''\\n\\t\\tpapa''\\n\\t\\tmummy''\\n\\t\\t\\tson''\\n\\t\\t\\tdaughter''\\n\\t\\tchacha''\\n\\t\\tchachi''\\n\\t\\t\\tbhai''\\n\\t\\t\\tbehen')"
   ]
  },
  {
   "cell_type": "code",
   "execution_count": 8,
   "metadata": {},
   "outputs": [
    {
     "name": "stdout",
     "output_type": "stream",
     "text": [
      "family\n",
      "grandfather\n",
      "grandmother\n",
      "papa\n",
      "mummy\n",
      "son\n",
      "daughter\n",
      "chacha\n",
      "chachi\n",
      "bhai\n",
      "behen\n"
     ]
    }
   ],
   "source": [
    "print(\"family\")\n",
    "print(\"grandfather\")\n",
    "print(\"grandmother\")\n",
    "print(\"papa\")\n",
    "print(\"mummy\")\n",
    "print(\"son\")\n",
    "print(\"daughter\")\n",
    "print(\"chacha\")\n",
    "print(\"chachi\")\n",
    "print(\"bhai\")\n",
    "print(\"behen\")"
   ]
  },
  {
   "cell_type": "code",
   "execution_count": 9,
   "metadata": {},
   "outputs": [
    {
     "name": "stdout",
     "output_type": "stream",
     "text": [
      "family\n",
      "\tgrandfather\n",
      "\tgrandmother\n",
      "\t\tpapa\n",
      "\t\tmummy\n",
      "\t\t\tson\n",
      "\t\t\tdaughter\n",
      "\t\tchacha\n",
      "\t\tchachi\n",
      "\t\t\tbhai\n",
      "\t\t\tbehen\n"
     ]
    }
   ],
   "source": [
    "print(\"family\")\n",
    "print(\"\\tgrandfather\")\n",
    "print(\"\\tgrandmother\")\n",
    "print(\"\\t\\tpapa\")\n",
    "print(\"\\t\\tmummy\")\n",
    "print(\"\\t\\t\\tson\")\n",
    "print(\"\\t\\t\\tdaughter\")\n",
    "print(\"\\t\\tchacha\")\n",
    "print(\"\\t\\tchachi\")\n",
    "print(\"\\t\\t\\tbhai\")\n",
    "print(\"\\t\\t\\tbehen\")"
   ]
  },
  {
   "cell_type": "code",
   "execution_count": 10,
   "metadata": {},
   "outputs": [],
   "source": [
    "# f string "
   ]
  },
  {
   "cell_type": "code",
   "execution_count": 12,
   "metadata": {},
   "outputs": [
    {
     "name": "stdout",
     "output_type": "stream",
     "text": [
      "aniket humane\n"
     ]
    }
   ],
   "source": [
    "first = \"aniket\"\n",
    "last = \"humane\"\n",
    "full_name = f'{first} {last}'\n",
    "print(full_name)"
   ]
  },
  {
   "cell_type": "code",
   "execution_count": 13,
   "metadata": {},
   "outputs": [
    {
     "name": "stdout",
     "output_type": "stream",
     "text": [
      "Aniket Humane\n"
     ]
    }
   ],
   "source": [
    "first = \"aniket\"\n",
    "last = \"humane\"\n",
    "full_name = f'{first.title()} {last.title()}'\n",
    "print(full_name)"
   ]
  },
  {
   "cell_type": "code",
   "execution_count": 14,
   "metadata": {},
   "outputs": [
    {
     "data": {
      "text/plain": [
       "str"
      ]
     },
     "execution_count": 14,
     "metadata": {},
     "output_type": "execute_result"
    }
   ],
   "source": [
    "type(first)"
   ]
  },
  {
   "cell_type": "code",
   "execution_count": 15,
   "metadata": {},
   "outputs": [
    {
     "name": "stdout",
     "output_type": "stream",
     "text": [
      "family\n",
      "\tgrandfather\n",
      "\tgrandmother\n",
      "\t\tpapa\n",
      "\t\tmummy\n",
      "\t\t\tson\n",
      "\t\t\tdaughter\n",
      "\t\tchacha\n",
      "\t\tchachi\n",
      "\t\t\tbhai\n",
      "\t\t\tbehen\n"
     ]
    }
   ],
   "source": [
    "print(\"family\")\n",
    "print(\"\\tgrandfather\")\n",
    "print(\"\\tgrandmother\")\n",
    "print(\"\\t\\tpapa\")\n",
    "print(\"\\t\\tmummy\")\n",
    "print(\"\\t\\t\\tson\")\n",
    "print(\"\\t\\t\\tdaughter\")\n",
    "print(\"\\t\\tchacha\")\n",
    "print(\"\\t\\tchachi\")\n",
    "print(\"\\t\\t\\tbhai\")\n",
    "print(\"\\t\\t\\tbehen\")"
   ]
  },
  {
   "cell_type": "code",
   "execution_count": 23,
   "metadata": {},
   "outputs": [],
   "source": [
    "name = \"family\"\n",
    "name0 = \"\\tgrandfather\"\n",
    "name1 = \"\\tgrandmother\"\n",
    "name2 = \"\\t\\tpapa\"\n",
    "name3 = \"\\t\\tmummy\"\n",
    "name4 = \"\\t\\t\\tson\"\n",
    "name5 = \"\\t\\t\\tdaughter\"\n",
    "name6 = \"\\t\\tchacha\"\n",
    "name7 = \"\\t\\tchachi\"\n",
    "name8 = \"\\t\\t\\tbhai\"\n",
    "name9 = \"\\t\\t\\tbehen\"\n",
    "\n"
   ]
  },
  {
   "cell_type": "code",
   "execution_count": 24,
   "metadata": {},
   "outputs": [
    {
     "name": "stdout",
     "output_type": "stream",
     "text": [
      "family\n",
      "\tgrandfather\n",
      "\tgrandmother\n",
      "\t\tpapa\n",
      "\t\tmummy\n",
      "\t\t\tson\n",
      "\t\t\tdaughter\n",
      "\t\tchacha\n",
      "\t\tchachi\n",
      "\t\t\tbhai\n",
      "\t\t\tbehen\n"
     ]
    }
   ],
   "source": [
    "print(name)\n",
    "print(name0)\n",
    "print(name1)\n",
    "print(name2)\n",
    "print(name3)\n",
    "print(name4)\n",
    "print(name5)\n",
    "print(name6)\n",
    "print(name7)\n",
    "print(name8)\n",
    "print(name9)"
   ]
  },
  {
   "cell_type": "code",
   "execution_count": 25,
   "metadata": {},
   "outputs": [],
   "source": [
    "name = \"family\"\n",
    "name0 = \"\\tgrandfather\"\n",
    "name1 = \"\\tgrandmother\"\n",
    "name2 = \"\\t\\tpapa\"\n",
    "name3 = \"\\t\\tmummy\"\n",
    "name4 = \"\\t\\t\\tson\"\n",
    "name5 = \"\\t\\t\\tdaughter\"\n",
    "name6 = \"\\t\\tchacha\"\n",
    "name7 = \"\\t\\tchachi\"\n",
    "name8 = \"\\t\\t\\tbhai\"\n",
    "name9 = \"\\t\\t\\tbehen\"\n",
    "\n"
   ]
  },
  {
   "cell_type": "code",
   "execution_count": 32,
   "metadata": {},
   "outputs": [
    {
     "name": "stdout",
     "output_type": "stream",
     "text": [
      "Family.Upper()\n"
     ]
    }
   ],
   "source": [
    "together = f'{name.title()}'\n",
    "print(together)"
   ]
  },
  {
   "cell_type": "code",
   "execution_count": 46,
   "metadata": {},
   "outputs": [
    {
     "name": "stdout",
     "output_type": "stream",
     "text": [
      "\n",
      "\n",
      "FAMILY\n",
      "\tGrandfather\n",
      "\tGrandmother\n",
      "\t\t\tPapa\n",
      "\t\t\tMummy\n",
      "\t\t\t\t  Son\n",
      "\t\t\t\t  Daughter\n",
      "\t\t\tChacha\n",
      "\t\t\tChachi\n",
      "\t\t\t\t  Bhai\n",
      "\t\t\t\t  Behen\n"
     ]
    }
   ],
   "source": [
    "name = \"\\n\\nfamily\"\n",
    "name0 = \"\\tgrandfather\"\n",
    "name1 = \"\\tgrandmother\"\n",
    "name2 = \"\\t\\t\\tpapa\"\n",
    "name3 = \"\\t\\t\\tmummy\"\n",
    "name4 = \"\\t\\t\\t\\t  son\"\n",
    "name5 = \"\\t\\t\\t\\t  daughter\"\n",
    "name6 = \"\\t\\t\\tchacha\"\n",
    "name7 = \"\\t\\t\\tchachi\"\n",
    "name8 = \"\\t\\t\\t\\t  bhai\"\n",
    "name9 = \"\\t\\t\\t\\t  behen\"\n",
    "\n",
    "\n",
    "\n",
    "\n",
    "together = f'{name.upper()}'\n",
    "together1 = f'{name0.title()}'\n",
    "together2 = f'{name1.title()}'\n",
    "together3 = f'{name2.title()}'\n",
    "together4 = f'{name3.title()}'\n",
    "together5 = f'{name4.title()}'\n",
    "together6 = f'{name5.title()}'\n",
    "together7 = f'{name6.title()}'\n",
    "together8 = f'{name7.title()}'\n",
    "together9 = f'{name8.title()}'\n",
    "together10 = f'{name9.title()}'\n",
    "\n",
    "\n",
    "print(together)\n",
    "print(together1)\n",
    "print(together2)\n",
    "print(together3)\n",
    "print(together4)\n",
    "print(together5)\n",
    "print(together6)\n",
    "print(together7)\n",
    "print(together8)\n",
    "print(together9)\n",
    "print(together10)"
   ]
  },
  {
   "cell_type": "code",
   "execution_count": null,
   "metadata": {},
   "outputs": [],
   "source": []
  }
 ],
 "metadata": {
  "kernelspec": {
   "display_name": "Python 3",
   "language": "python",
   "name": "python3"
  },
  "language_info": {
   "codemirror_mode": {
    "name": "ipython",
    "version": 3
   },
   "file_extension": ".py",
   "mimetype": "text/x-python",
   "name": "python",
   "nbconvert_exporter": "python",
   "pygments_lexer": "ipython3",
   "version": "3.8.5"
  }
 },
 "nbformat": 4,
 "nbformat_minor": 4
}
