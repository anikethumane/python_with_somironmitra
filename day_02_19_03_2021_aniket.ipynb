{
 "cells": [
  {
   "cell_type": "code",
   "execution_count": 1,
   "metadata": {},
   "outputs": [],
   "source": [
    "# Introduction to data types \n",
    "\n",
    "# 1) STRING \n",
    "# 2) NUMBERS\n",
    "# 3) LIST\n",
    "# 4) TUPLE\n",
    "# 5) DICTIONARY "
   ]
  },
  {
   "cell_type": "code",
   "execution_count": 2,
   "metadata": {},
   "outputs": [],
   "source": [
    "# Now we would be getting into each type of data type and will be discussing"
   ]
  },
  {
   "cell_type": "code",
   "execution_count": 3,
   "metadata": {},
   "outputs": [],
   "source": [
    "# DATA TYPES CAN BE WRITTERN AS--\n",
    "\n",
    "# 1) String     : str\n",
    "# 2) Number     : a) Integers : int\n",
    "#                 b) Float    : float\n",
    "# 3) List       : list\n",
    "# 4) Tuple      : tuple\n",
    "# 5) Dictionary : dict\n"
   ]
  },
  {
   "cell_type": "code",
   "execution_count": 4,
   "metadata": {},
   "outputs": [],
   "source": [
    "# CLASSIFICATION OF DATA TYPES - Data types can be classified into two types \n",
    "\n",
    "# 1) MUTABLE DATA TYPES (flexible)\n",
    "# 2) IMMUTABLE DATA TYPES (fixed) "
   ]
  },
  {
   "cell_type": "code",
   "execution_count": 5,
   "metadata": {},
   "outputs": [],
   "source": [
    "# 1) Mutable data type    : Mutable data type is that which we can edit or alter once it has been declared.\n",
    "# 2) Immutable data types : Immutable data types is that which cannot be edited or we cannot alter once it has been declared."
   ]
  },
  {
   "cell_type": "code",
   "execution_count": 6,
   "metadata": {},
   "outputs": [],
   "source": [
    "# INTRODUCTION TO STRING DATA TYPES \n",
    "\n",
    "# Overview or defination : A string is nothing but a series of character enclosed in quotes.\n",
    "\n",
    "# Classification : String data types is classified as an Immutable data type.\n",
    "\n",
    "# How to define a string?\n",
    "# to define a string we have 3 possible ways.\n",
    "# 1) Single Quote\n",
    "# 2) Double Quote\n",
    "# 3) Triple Quote"
   ]
  },
  {
   "cell_type": "code",
   "execution_count": 8,
   "metadata": {},
   "outputs": [
    {
     "name": "stdout",
     "output_type": "stream",
     "text": [
      "aniket\n",
      "obvious\n"
     ]
    }
   ],
   "source": [
    "# 1) SINGLE QUOTE \n",
    "\n",
    "name = 'aniket'\n",
    "print(name)\n",
    "name1 = 'obvious'\n",
    "print(name1)"
   ]
  },
  {
   "cell_type": "code",
   "execution_count": 9,
   "metadata": {},
   "outputs": [
    {
     "name": "stdout",
     "output_type": "stream",
     "text": [
      "bhaijaan\n",
      "prajwal\n"
     ]
    }
   ],
   "source": [
    "# 2) DOUBLE QUOTE \n",
    "\n",
    "name2 = \"bhaijaan\"\n",
    "buddy = \"prajwal\"\n",
    "print(name2)\n",
    "print(buddy)"
   ]
  },
  {
   "cell_type": "code",
   "execution_count": 11,
   "metadata": {},
   "outputs": [
    {
     "name": "stdout",
     "output_type": "stream",
     "text": [
      "'mohit'\n",
      "\"rohit\"\n"
     ]
    }
   ],
   "source": [
    "# 3) TRIPLE QUOTE \n",
    "\n",
    "name3 = \"'mohit'\"\n",
    "name4 = '\"rohit\"'\n",
    "print(name3)\n",
    "print(name4)"
   ]
  },
  {
   "cell_type": "code",
   "execution_count": 12,
   "metadata": {},
   "outputs": [
    {
     "ename": "SyntaxError",
     "evalue": "EOL while scanning string literal (<ipython-input-12-661e6b4bc8c3>, line 1)",
     "output_type": "error",
     "traceback": [
      "\u001b[1;36m  File \u001b[1;32m\"<ipython-input-12-661e6b4bc8c3>\"\u001b[1;36m, line \u001b[1;32m1\u001b[0m\n\u001b[1;33m    poem = 'Twinkle, twinkle, little star\u001b[0m\n\u001b[1;37m                                         ^\u001b[0m\n\u001b[1;31mSyntaxError\u001b[0m\u001b[1;31m:\u001b[0m EOL while scanning string literal\n"
     ]
    }
   ],
   "source": [
    "poem = 'Twinkle, twinkle, little star\n",
    "How I wonder what you are\n",
    "Up above the world so high\n",
    "Like a diamond in the sky\n",
    "Twinkle, twinkle little star\n",
    "How I wonder what you are\n",
    "When the blazing sun is gone\n",
    "When he nothing shines upon\n",
    "Then you show your little light\n",
    "Twinkle, twinkle, all the night\n",
    "Twinkle, twinkle, little star\n",
    "How I wonder what you are'\n",
    "print(poem)"
   ]
  },
  {
   "cell_type": "code",
   "execution_count": 13,
   "metadata": {},
   "outputs": [
    {
     "ename": "SyntaxError",
     "evalue": "EOL while scanning string literal (<ipython-input-13-1ac95b5fa094>, line 1)",
     "output_type": "error",
     "traceback": [
      "\u001b[1;36m  File \u001b[1;32m\"<ipython-input-13-1ac95b5fa094>\"\u001b[1;36m, line \u001b[1;32m1\u001b[0m\n\u001b[1;33m    poem1 = \"Twinkle, twinkle, little star\u001b[0m\n\u001b[1;37m                                          ^\u001b[0m\n\u001b[1;31mSyntaxError\u001b[0m\u001b[1;31m:\u001b[0m EOL while scanning string literal\n"
     ]
    }
   ],
   "source": [
    "poem1 = \"Twinkle, twinkle, little star\n",
    "How I wonder what you are\n",
    "Up above the world so high\n",
    "Like a diamond in the sky\n",
    "Twinkle, twinkle little star\n",
    "How I wonder what you are\n",
    "When the blazing sun is gone\n",
    "When he nothing shines upon\n",
    "Then you show your little light\n",
    "Twinkle, twinkle, all the night\n",
    "Twinkle, twinkle, little star\n",
    "How I wonder what you are\"\n",
    "print(poem1)"
   ]
  },
  {
   "cell_type": "code",
   "execution_count": 14,
   "metadata": {},
   "outputs": [
    {
     "ename": "SyntaxError",
     "evalue": "EOL while scanning string literal (<ipython-input-14-91725c17d49a>, line 1)",
     "output_type": "error",
     "traceback": [
      "\u001b[1;36m  File \u001b[1;32m\"<ipython-input-14-91725c17d49a>\"\u001b[1;36m, line \u001b[1;32m1\u001b[0m\n\u001b[1;33m    poem2 = '\"Twinkle, twinkle, little star\u001b[0m\n\u001b[1;37m                                           ^\u001b[0m\n\u001b[1;31mSyntaxError\u001b[0m\u001b[1;31m:\u001b[0m EOL while scanning string literal\n"
     ]
    }
   ],
   "source": [
    "poem2 = '\"Twinkle, twinkle, little star\n",
    "How I wonder what you are\n",
    "Up above the world so high\n",
    "Like a diamond in the sky\n",
    "Twinkle, twinkle little star\n",
    "How I wonder what you are\n",
    "When the blazing sun is gone\n",
    "When he nothing shines upon\n",
    "Then you show your little light\n",
    "Twinkle, twinkle, all the night\n",
    "Twinkle, twinkle, little star\n",
    "How I wonder what you are\"'\n",
    "print(poem2)"
   ]
  },
  {
   "cell_type": "code",
   "execution_count": 15,
   "metadata": {},
   "outputs": [
    {
     "ename": "SyntaxError",
     "evalue": "EOL while scanning string literal (<ipython-input-15-99bae74a430b>, line 1)",
     "output_type": "error",
     "traceback": [
      "\u001b[1;36m  File \u001b[1;32m\"<ipython-input-15-99bae74a430b>\"\u001b[1;36m, line \u001b[1;32m1\u001b[0m\n\u001b[1;33m    poem3 = \"'Twinkle, twinkle, little star\u001b[0m\n\u001b[1;37m                                           ^\u001b[0m\n\u001b[1;31mSyntaxError\u001b[0m\u001b[1;31m:\u001b[0m EOL while scanning string literal\n"
     ]
    }
   ],
   "source": [
    "poem3 = \"'Twinkle, twinkle, little star\n",
    "How I wonder what you are\n",
    "Up above the world so high\n",
    "Like a diamond in the sky\n",
    "Twinkle, twinkle little star\n",
    "How I wonder what you are\n",
    "When the blazing sun is gone\n",
    "When he nothing shines upon\n",
    "Then you show your little light\n",
    "Twinkle, twinkle, all the night\n",
    "Twinkle, twinkle, little star\n",
    "How I wonder what you are'\"\n",
    "print(poem3)"
   ]
  },
  {
   "cell_type": "code",
   "execution_count": 16,
   "metadata": {},
   "outputs": [
    {
     "name": "stdout",
     "output_type": "stream",
     "text": [
      "the aniket\n"
     ]
    }
   ],
   "source": [
    "name5 = '''the aniket'''\n",
    "print(name5)"
   ]
  },
  {
   "cell_type": "code",
   "execution_count": 17,
   "metadata": {},
   "outputs": [
    {
     "name": "stdout",
     "output_type": "stream",
     "text": [
      "the great aniket\n"
     ]
    }
   ],
   "source": [
    "name6 = \"\"\"the great aniket\"\"\"\n",
    "print(name6)"
   ]
  },
  {
   "cell_type": "code",
   "execution_count": 24,
   "metadata": {},
   "outputs": [
    {
     "name": "stdout",
     "output_type": "stream",
     "text": [
      "Twinkle, twinkle, little star\n",
      "How I wonder what you are\n",
      "Up above the world so high\n",
      "Like a diamond in the sky\n",
      "Twinkle, twinkle little star\n",
      "How I wonder what you are\n",
      "When the blazing sun is gone\n",
      "When he nothing shines upon\n",
      "Then you show your little light\n",
      "Twinkle, twinkle, all the night\n",
      "Twinkle, twinkle, little star\n",
      "How I wonder what you are\n"
     ]
    }
   ],
   "source": [
    "poem6 = '''Twinkle, twinkle, little star\n",
    "How I wonder what you are\n",
    "Up above the world so high\n",
    "Like a diamond in the sky\n",
    "Twinkle, twinkle little star\n",
    "How I wonder what you are\n",
    "When the blazing sun is gone\n",
    "When he nothing shines upon\n",
    "Then you show your little light\n",
    "Twinkle, twinkle, all the night\n",
    "Twinkle, twinkle, little star\n",
    "How I wonder what you are'''\n",
    "print(poem6)"
   ]
  },
  {
   "cell_type": "code",
   "execution_count": 25,
   "metadata": {},
   "outputs": [
    {
     "name": "stdout",
     "output_type": "stream",
     "text": [
      "Twinkle, twinkle, little star\n",
      "How I wonder what you are\n",
      "Up above the world so high\n",
      "Like a diamond in the sky\n",
      "Twinkle, twinkle little star\n",
      "How I wonder what you are\n",
      "When the blazing sun is gone\n",
      "When he nothing shines upon\n",
      "Then you show your little light\n",
      "Twinkle, twinkle, all the night\n",
      "Twinkle, twinkle, little star\n",
      "How I wonder what you are\n"
     ]
    }
   ],
   "source": [
    "poem = '''Twinkle, twinkle, little star\n",
    "How I wonder what you are\n",
    "Up above the world so high\n",
    "Like a diamond in the sky\n",
    "Twinkle, twinkle little star\n",
    "How I wonder what you are\n",
    "When the blazing sun is gone\n",
    "When he nothing shines upon\n",
    "Then you show your little light\n",
    "Twinkle, twinkle, all the night\n",
    "Twinkle, twinkle, little star\n",
    "How I wonder what you are'''\n",
    "print(poem)"
   ]
  },
  {
   "cell_type": "code",
   "execution_count": 26,
   "metadata": {},
   "outputs": [
    {
     "name": "stdout",
     "output_type": "stream",
     "text": [
      "Twinkle, twinkle, little star\n",
      "How I wonder what you are\n",
      "Up above the world so high\n",
      "Like a diamond in the sky\n",
      "Twinkle, twinkle little star\n",
      "How I wonder what you are\n",
      "When the blazing sun is gone\n",
      "When he nothing shines upon\n",
      "Then you show your little light\n",
      "Twinkle, twinkle, all the night\n",
      "Twinkle, twinkle, little star\n",
      "How I wonder what you are\n"
     ]
    }
   ],
   "source": [
    "poem7 = \"\"\"Twinkle, twinkle, little star\n",
    "How I wonder what you are\n",
    "Up above the world so high\n",
    "Like a diamond in the sky\n",
    "Twinkle, twinkle little star\n",
    "How I wonder what you are\n",
    "When the blazing sun is gone\n",
    "When he nothing shines upon\n",
    "Then you show your little light\n",
    "Twinkle, twinkle, all the night\n",
    "Twinkle, twinkle, little star\n",
    "How I wonder what you are\"\"\"\n",
    "print(poem7)"
   ]
  },
  {
   "cell_type": "code",
   "execution_count": null,
   "metadata": {},
   "outputs": [],
   "source": []
  },
  {
   "cell_type": "code",
   "execution_count": null,
   "metadata": {},
   "outputs": [],
   "source": [
    "# OTHER EXAMPLES"
   ]
  },
  {
   "cell_type": "code",
   "execution_count": 18,
   "metadata": {},
   "outputs": [
    {
     "name": "stdout",
     "output_type": "stream",
     "text": [
      "''super aniket''\n"
     ]
    }
   ],
   "source": [
    "name7 = \"''super aniket''\"\n",
    "print(name7)"
   ]
  },
  {
   "cell_type": "code",
   "execution_count": 19,
   "metadata": {},
   "outputs": [
    {
     "name": "stdout",
     "output_type": "stream",
     "text": [
      "massive black hole\n"
     ]
    }
   ],
   "source": [
    "name8 = ''\"massive black hole\"''\n",
    "print(name8)"
   ]
  },
  {
   "cell_type": "code",
   "execution_count": 23,
   "metadata": {},
   "outputs": [
    {
     "ename": "SyntaxError",
     "evalue": "invalid syntax (<ipython-input-23-ce4d774d2855>, line 1)",
     "output_type": "error",
     "traceback": [
      "\u001b[1;36m  File \u001b[1;32m\"<ipython-input-23-ce4d774d2855>\"\u001b[1;36m, line \u001b[1;32m1\u001b[0m\n\u001b[1;33m    name9 = \"\"web massive black hole\"\"\u001b[0m\n\u001b[1;37m              ^\u001b[0m\n\u001b[1;31mSyntaxError\u001b[0m\u001b[1;31m:\u001b[0m invalid syntax\n"
     ]
    }
   ],
   "source": [
    "name9 = \"\"web massive black hole\"\"\n",
    "print(name9)"
   ]
  },
  {
   "cell_type": "code",
   "execution_count": 27,
   "metadata": {},
   "outputs": [
    {
     "name": "stdout",
     "output_type": "stream",
     "text": [
      "Johny Johny\n",
      "(Yes Papa)\n",
      "Eating sugar?\n",
      "(No, papa)\n",
      "Telling lies?\n",
      "(No, papa)\n",
      "Open your mouth\n",
      "(Ah, ah, ah!)\n",
      "Johny, Johny\n",
      "(Yes, Papa)\n",
      "Eating sugar?\n"
     ]
    }
   ],
   "source": [
    "NAME = \"\"\"Johny Johny\n",
    "(Yes Papa)\n",
    "Eating sugar?\n",
    "(No, papa)\n",
    "Telling lies?\n",
    "(No, papa)\n",
    "Open your mouth\n",
    "(Ah, ah, ah!)\n",
    "Johny, Johny\n",
    "(Yes, Papa)\n",
    "Eating sugar?\"\"\"\n",
    "print(NAME)"
   ]
  },
  {
   "cell_type": "code",
   "execution_count": 28,
   "metadata": {},
   "outputs": [],
   "source": [
    "# QUESTIONS\n",
    "\n",
    "# 1) sir, series of character means sentence, right?\n",
    "# 2) in triple quotation, i select a combination of 1 double 2 single quotaion then i execute so the answer is in 2 single quotation (line no.18)\n",
    "#    and in the same way i select 2 single 1 double quotation then the answer will come in without any quotation (line no. 19), AISA KAISE SIR???\n",
    "# 3) i select 2 times single quotation and i executetd but it shows error, why sir?"
   ]
  }
 ],
 "metadata": {
  "kernelspec": {
   "display_name": "Python 3",
   "language": "python",
   "name": "python3"
  },
  "language_info": {
   "codemirror_mode": {
    "name": "ipython",
    "version": 3
   },
   "file_extension": ".py",
   "mimetype": "text/x-python",
   "name": "python",
   "nbconvert_exporter": "python",
   "pygments_lexer": "ipython3",
   "version": "3.8.5"
  }
 },
 "nbformat": 4,
 "nbformat_minor": 4
}
