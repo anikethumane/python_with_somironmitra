{
 "cells": [
  {
   "cell_type": "code",
   "execution_count": 1,
   "metadata": {},
   "outputs": [
    {
     "name": "stdout",
     "output_type": "stream",
     "text": [
      "aniket humane\n"
     ]
    }
   ],
   "source": [
    "first = (\"aniket\")\n",
    "last = (\"humane\")\n",
    "fullname = f'{first.title()} {last.title()}'\n",
    "\n",
    "print(first,last)"
   ]
  },
  {
   "cell_type": "code",
   "execution_count": 2,
   "metadata": {},
   "outputs": [
    {
     "name": "stdout",
     "output_type": "stream",
     "text": [
      "Aniket Humane\n"
     ]
    }
   ],
   "source": [
    "first = (\"aniket\")\n",
    "last = (\"humane\")\n",
    "fullname = f'{first.title()} {last.title()}'\n",
    "\n",
    "print(fullname)"
   ]
  },
  {
   "cell_type": "code",
   "execution_count": 3,
   "metadata": {},
   "outputs": [
    {
     "name": "stdout",
     "output_type": "stream",
     "text": [
      "aniket humane\n",
      "Aniket Humane\n"
     ]
    }
   ],
   "source": [
    "first = (\"aniket\")\n",
    "last = (\"humane\")\n",
    "fullname = f'{first.title()} {last.title()}'\n",
    "\n",
    "print(first,last)\n",
    "print(fullname)"
   ]
  },
  {
   "cell_type": "code",
   "execution_count": 5,
   "metadata": {},
   "outputs": [
    {
     "name": "stdout",
     "output_type": "stream",
     "text": [
      "aniket humane\n",
      "My name is Aniket Humane\n",
      "My nick name is ANU\n",
      "I am a student\n",
      "humane aniket\n"
     ]
    }
   ],
   "source": [
    "first = (\"aniket\")\n",
    "last = (\"humane\")\n",
    "nick = (\"anu\")\n",
    "name = (\"HUMANE ANIKET\")\n",
    "fullname = f'{first.title()} {last.title()}'\n",
    "\n",
    "fullname1 = f'My name is {first.title()} {last.title()}'\n",
    "fullname2 = f'My nick name is {nick.upper()}'\n",
    "fullname3 = f'{name.lower()}'\n",
    "\n",
    "print(first,last)\n",
    "print(fullname1)\n",
    "print(fullname2)\n",
    "print(\"I am a student\")\n",
    "print(fullname3)"
   ]
  },
  {
   "cell_type": "code",
   "execution_count": 8,
   "metadata": {},
   "outputs": [
    {
     "name": "stdout",
     "output_type": "stream",
     "text": [
      "aniket humane\n",
      "My name is Aniket Humane\n",
      "My nick name is ANU\n",
      "I am a student\n",
      "     My name in small letter is humane aniket\n"
     ]
    }
   ],
   "source": [
    "first = (\"aniket\")\n",
    "last = (\"humane\")\n",
    "nick = (\"anu\")\n",
    "name = (\"HUMANE ANIKET\")\n",
    "fullname = f'{first.title()} {last.title()}'\n",
    "\n",
    "fullname1 = f'My name is {first.title()} {last.title()}'\n",
    "fullname2 = f'My nick name is {nick.upper()}'\n",
    "fullname3 = f'{name.lower()}'\n",
    "fullname3 = f'     My name in small letter is {name.lower()}'\n",
    "\n",
    "print(first,last)\n",
    "print(fullname1)\n",
    "print(fullname2)\n",
    "print(\"I am a student\")\n",
    "print(fullname3)"
   ]
  },
  {
   "cell_type": "code",
   "execution_count": 9,
   "metadata": {},
   "outputs": [
    {
     "name": "stdout",
     "output_type": "stream",
     "text": [
      "    aniket\n",
      "    humane   \n",
      "                Aniket humane\n",
      "ANIKET HUMANE\n"
     ]
    }
   ],
   "source": [
    "name1 = \"    aniket\"\n",
    "name2 = '    humane   '\n",
    "name3 = \"                Aniket humane\"\n",
    "name4 = \"ANIKET HUMANE\"\n",
    "\n",
    "print(name1)\n",
    "print(name2)\n",
    "print(name3)\n",
    "print(name4)"
   ]
  },
  {
   "cell_type": "code",
   "execution_count": null,
   "metadata": {},
   "outputs": [],
   "source": []
  },
  {
   "cell_type": "code",
   "execution_count": null,
   "metadata": {},
   "outputs": [],
   "source": [
    "# REQUIREMENT : TO ELIMINATE THE WHITE SPACES "
   ]
  },
  {
   "cell_type": "code",
   "execution_count": 10,
   "metadata": {},
   "outputs": [
    {
     "name": "stdout",
     "output_type": "stream",
     "text": [
      "aniket\n",
      "humane\n",
      "                Aniket humane\n",
      "ANIKET HUMANE\n"
     ]
    }
   ],
   "source": [
    "name1 = \"    aniket\"\n",
    "name2 = '    humane   '\n",
    "name3 = \"                Aniket humane\"\n",
    "name4 = \"ANIKET HUMANE                          \"\n",
    "\n",
    "print(name1.lstrip())\n",
    "print(name2.strip())\n",
    "print(name3)\n",
    "print(name4.rstrip())"
   ]
  },
  {
   "cell_type": "code",
   "execution_count": null,
   "metadata": {},
   "outputs": [],
   "source": [
    "# lstrip() ===> Eliminated or remove the white spaces on the left of the text \n",
    "# rstip() ===> Eliminated or remove the white spaces on the right of the text\n",
    "# strip() ===> It removes all the spaces "
   ]
  },
  {
   "cell_type": "code",
   "execution_count": null,
   "metadata": {},
   "outputs": [],
   "source": []
  },
  {
   "cell_type": "code",
   "execution_count": 11,
   "metadata": {},
   "outputs": [
    {
     "name": "stdout",
     "output_type": "stream",
     "text": [
      "Aniket Humane\n",
      "My name is Aniket Humane\n",
      "My nick name is ANU\n",
      "I am a student\n",
      "My name in small letter is humane aniket\n"
     ]
    }
   ],
   "source": [
    "first = (\"aniket\")\n",
    "last = (\"humane\")\n",
    "nick = (\"anu\")\n",
    "name = (\"HUMANE ANIKET\")\n",
    "fullname = f'{first.title()} {last.title()}'\n",
    "\n",
    "fullname1 = f'My name is {first.title()} {last.title()}'\n",
    "fullname2 = f'My nick name is {nick.upper()}'\n",
    "fullname3 = f'{name.lower()}'\n",
    "fullname3 = f'     My name in small letter is {name.lower()}'\n",
    "\n",
    "print(first.title(),last.title())\n",
    "print(fullname1)\n",
    "print(fullname2)\n",
    "print(\"I am a student\")\n",
    "print(fullname3.strip())"
   ]
  },
  {
   "cell_type": "code",
   "execution_count": 12,
   "metadata": {},
   "outputs": [
    {
     "name": "stdout",
     "output_type": "stream",
     "text": [
      "        aniket.lstrip()\n"
     ]
    }
   ],
   "source": [
    "name1 = '        aniket.lstrip()'\n",
    "print(name1)"
   ]
  },
  {
   "cell_type": "code",
   "execution_count": 13,
   "metadata": {},
   "outputs": [
    {
     "name": "stdout",
     "output_type": "stream",
     "text": [
      "aniket\n"
     ]
    }
   ],
   "source": [
    "name1 = '        aniket'.lstrip()\n",
    "print(name1)"
   ]
  },
  {
   "cell_type": "code",
   "execution_count": 18,
   "metadata": {},
   "outputs": [
    {
     "name": "stdout",
     "output_type": "stream",
     "text": [
      "               \n",
      "\n",
      "\n",
      "\t\t\taniket\n"
     ]
    }
   ],
   "source": [
    "print(\"               \\n\\n\\n\\t\\t\\taniket\")"
   ]
  },
  {
   "cell_type": "code",
   "execution_count": 19,
   "metadata": {},
   "outputs": [
    {
     "name": "stdout",
     "output_type": "stream",
     "text": [
      "aniket\n"
     ]
    }
   ],
   "source": [
    "print(\"               \\n\\n\\n\\t\\t\\taniket\".strip())"
   ]
  },
  {
   "cell_type": "code",
   "execution_count": 38,
   "metadata": {
    "scrolled": true
   },
   "outputs": [
    {
     "name": "stdout",
     "output_type": "stream",
     "text": [
      "             aniket \t\t\t\t\n",
      "\n",
      "\n",
      "girish\n"
     ]
    }
   ],
   "source": [
    "print(\"             aniket\"   ,     \"\\t\\t\\t\\t\\n\\n\\ngirish\")"
   ]
  },
  {
   "cell_type": "code",
   "execution_count": 39,
   "metadata": {},
   "outputs": [
    {
     "name": "stdout",
     "output_type": "stream",
     "text": [
      "             aniket girish\n"
     ]
    }
   ],
   "source": [
    "print(\"             aniket\"   ,     \"\\t\\t\\t\\t\\n\\n\\ngirish\".strip())"
   ]
  },
  {
   "cell_type": "code",
   "execution_count": 40,
   "metadata": {},
   "outputs": [
    {
     "name": "stdout",
     "output_type": "stream",
     "text": [
      "aniket girish\n"
     ]
    }
   ],
   "source": [
    "print(\"             aniket\"   .strip(),     \"\\t\\t\\t\\t\\n\\n\\ngirish\".strip())"
   ]
  },
  {
   "cell_type": "code",
   "execution_count": 41,
   "metadata": {},
   "outputs": [
    {
     "name": "stdout",
     "output_type": "stream",
     "text": [
      "FAMILY\n",
      "\tGrandfather\n",
      "\tGrandmother\n",
      "\t\tPapa\n",
      "\t\tMummy\n",
      "\t\t\tSon\n",
      "\t\t\tDaughter\n",
      "\t\tChacha\n",
      "\t\tChachi\n",
      "\t\t\tBhai\n",
      "\t\t\tBehen\n"
     ]
    }
   ],
   "source": [
    "print(\"family\".upper())\n",
    "print(\"\\tgrandfather\".title())\n",
    "print(\"\\tgrandmother\".title())\n",
    "print(\"\\t\\tpapa\".title())\n",
    "print(\"\\t\\tmummy\".title())\n",
    "print(\"\\t\\t\\tson\".title())\n",
    "print(\"\\t\\t\\tdaughter\".title())\n",
    "print(\"\\t\\tchacha\".title())\n",
    "print(\"\\t\\tchachi\".title())\n",
    "print(\"\\t\\t\\tbhai\".title())\n",
    "print(\"\\t\\t\\tbehen\".title())"
   ]
  },
  {
   "cell_type": "code",
   "execution_count": null,
   "metadata": {},
   "outputs": [],
   "source": []
  }
 ],
 "metadata": {
  "kernelspec": {
   "display_name": "Python 3",
   "language": "python",
   "name": "python3"
  },
  "language_info": {
   "codemirror_mode": {
    "name": "ipython",
    "version": 3
   },
   "file_extension": ".py",
   "mimetype": "text/x-python",
   "name": "python",
   "nbconvert_exporter": "python",
   "pygments_lexer": "ipython3",
   "version": "3.8.5"
  }
 },
 "nbformat": 4,
 "nbformat_minor": 4
}
